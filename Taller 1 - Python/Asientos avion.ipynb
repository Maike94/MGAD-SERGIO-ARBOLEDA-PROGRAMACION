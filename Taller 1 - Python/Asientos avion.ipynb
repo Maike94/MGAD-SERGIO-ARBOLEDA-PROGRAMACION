{
 "cells": [
  {
   "cell_type": "code",
   "execution_count": 17,
   "id": "f3726484-37e7-473c-b549-30e6a014c8d3",
   "metadata": {},
   "outputs": [],
   "source": [
    "import random"
   ]
  },
  {
   "cell_type": "code",
   "execution_count": 145,
   "id": "cb1c624b-9645-4d75-8249-7580b945e8d0",
   "metadata": {},
   "outputs": [],
   "source": [
    "def simularvuelo (): #creo el metodo\n",
    "    asientos = list(range(0,100)) #creo una lista de 0 a 99 \n",
    "    persona1 = random.choice(asientos)\n",
    "    asientos.remove(persona1)\n",
    "    return persona1 # retorna el asiento ocupado\n",
    "    "
   ]
  },
  {
   "cell_type": "code",
   "execution_count": 147,
   "id": "2310783a-37c8-435f-9520-bdbd296e54fa",
   "metadata": {},
   "outputs": [
    {
     "name": "stdout",
     "output_type": "stream",
     "text": [
      "persona1 ocupo la silla: 92\n"
     ]
    }
   ],
   "source": [
    "asiento_ocupado = simularvuelo() #Debo llamar a la funcion de lo contrario no corre\n",
    "print (f\"persona1 ocupo la silla: {asiento_ocupado}\")\n"
   ]
  },
  {
   "cell_type": "code",
   "execution_count": 161,
   "id": "f349a151-ea69-462c-8c0c-8a448029d9f7",
   "metadata": {},
   "outputs": [
    {
     "name": "stdout",
     "output_type": "stream",
     "text": [
      "50162\n",
      "Probabilidad estimada de que el pasajero 100 se siente en su asiento: 50.16%\n"
     ]
    }
   ],
   "source": [
    "def simularvuelo():\n",
    "    asientos = list(range(0, 100))  # genera la secuencia del 0 al 100 el cien no lo cuenta por es excluido pero si cuenta el cero\n",
    "    persona1 = random.choice(asientos)  \n",
    "    asientos.remove(persona1)  \n",
    "    \n",
    "    for pasajero in range(1, 99):  #El pasajero 100 no entra en el ciclo porque es el último pasajero y no necesita iterar sobre el\n",
    "        if pasajero in asientos:\n",
    "            asientos.remove(pasajero)  # Se sienta en su asiento asignado\n",
    "        else:\n",
    "            elegido = random.choice(asientos)  # Elige un asiento disponible\n",
    "            asientos.remove(elegido)\n",
    "    \n",
    "    return asientos[0] == 99  # Devuelve True si el pasajero 100 tiene su asiento\n",
    "\n",
    "# Simulación para estimar la probabilidad\n",
    "N = 100000  # Número de simulaciones\n",
    "exitos = sum(simularvuelo() for _ in range(N)) # la raya al piso me indica que no voy a tomar la varible\n",
    "\n",
    "print (exitos)\n",
    "\n",
    "probabilidad = exitos / N\n",
    "print(f\"Probabilidad estimada de que el pasajero 100 se siente en su asiento: {probabilidad:.2%}\")\n"
   ]
  }
 ],
 "metadata": {
  "kernelspec": {
   "display_name": "Python 3 (ipykernel)",
   "language": "python",
   "name": "python3"
  },
  "language_info": {
   "codemirror_mode": {
    "name": "ipython",
    "version": 3
   },
   "file_extension": ".py",
   "mimetype": "text/x-python",
   "name": "python",
   "nbconvert_exporter": "python",
   "pygments_lexer": "ipython3",
   "version": "3.12.4"
  }
 },
 "nbformat": 4,
 "nbformat_minor": 5
}
